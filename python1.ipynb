{
 "cells": [
  {
   "cell_type": "code",
   "execution_count": 1,
   "metadata": {},
   "outputs": [
    {
     "name": "stdout",
     "output_type": "stream",
     "text": [
      "enter 1st no.2\n",
      "enter 2nd no.3\n",
      "3\n",
      "2\n"
     ]
    }
   ],
   "source": [
    "#swap two variables\n",
    "x=int(input(\"enter 1st no.\"))\n",
    "y=int(input(\"enter 2nd no.\"))\n",
    "x=x+y\n",
    "y=x-y\n",
    "x=x-y\n",
    "print(x)\n",
    "print(y)"
   ]
  },
  {
   "cell_type": "code",
   "execution_count": 23,
   "metadata": {},
   "outputs": [
    {
     "name": "stdout",
     "output_type": "stream",
     "text": [
      "enter a no.7\n",
      "number is odd\n"
     ]
    }
   ],
   "source": [
    "#number odd or even\n",
    "x=int(input(\"enter a no.\"))\n",
    "if x%2==0:\n",
    "    print(\"number is even\")\n",
    "else:\n",
    "    print(\"number is odd\")"
   ]
  },
  {
   "cell_type": "code",
   "execution_count": 3,
   "metadata": {},
   "outputs": [
    {
     "name": "stdout",
     "output_type": "stream",
     "text": [
      "enter a no.9\n",
      "the sq. root of 9 is 3.0\n"
     ]
    }
   ],
   "source": [
    "#sqrt of a number\n",
    "x=int(input(\"enter a no.\"))\n",
    "y=x**(1/2)\n",
    "print(\"the sq. root of\",x,\"is\",y)\n"
   ]
  },
  {
   "cell_type": "code",
   "execution_count": 4,
   "metadata": {},
   "outputs": [
    {
     "name": "stdout",
     "output_type": "stream",
     "text": [
      "enter ending no.8\n",
      "the natural numbers are:\n",
      "1\n",
      "2\n",
      "3\n",
      "4\n",
      "5\n",
      "6\n",
      "7\n",
      "8\n"
     ]
    }
   ],
   "source": [
    "#natural numbers from 1 to n\n",
    "n=int(input(\"enter ending no.\"))\n",
    "print(\"the natural numbers are:\")\n",
    "for i in range(1,n+1):\n",
    "    print(i)"
   ]
  },
  {
   "cell_type": "code",
   "execution_count": 5,
   "metadata": {},
   "outputs": [
    {
     "name": "stdout",
     "output_type": "stream",
     "text": [
      "even no.s are:\n",
      "2 4 6 8 10 12 14 16 18 20 22 24 26 28 30 32 34 36 38 40 42 44 46 48 50 52 54 56 58 60 62 64 66 68 70 72 74 76 78 80 82 84 86 88 90 92 94 96 98 100 \n",
      "odd no.s are:\n",
      "1 3 5 7 9 11 13 15 17 19 21 23 25 27 29 31 33 35 37 39 41 43 45 47 49 51 53 55 57 59 61 63 65 67 69 71 73 75 77 79 81 83 85 87 89 91 93 95 97 99 "
     ]
    }
   ],
   "source": [
    "#odd and even numbers between 1 to 100\n",
    "print(\"even no.s are:\")\n",
    "for i in range(1,101):\n",
    "    if i%2==0:\n",
    "        print(i,end=\" \")\n",
    "print()        \n",
    "print(\"odd no.s are:\")        \n",
    "for i in range(1,101):\n",
    "    if i%2!=0:\n",
    "        print(i,end=\" \")\n",
    "        "
   ]
  },
  {
   "cell_type": "code",
   "execution_count": 6,
   "metadata": {},
   "outputs": [
    {
     "name": "stdout",
     "output_type": "stream",
     "text": [
      "enter a number456\n",
      "the no. of digits are: 3\n"
     ]
    }
   ],
   "source": [
    "#no. of digits in a number\n",
    "x=int(input(\"enter a number\"))\n",
    "c=0\n",
    "while x>0:\n",
    "    x=x//10\n",
    "    c+=1\n",
    "print(\"the no. of digits are:\",c)"
   ]
  },
  {
   "cell_type": "code",
   "execution_count": 7,
   "metadata": {},
   "outputs": [
    {
     "name": "stdout",
     "output_type": "stream",
     "text": [
      "enter a no.7\n",
      "no. is prime\n"
     ]
    }
   ],
   "source": [
    "# prime or not\n",
    "x=int(input(\"enter a no.\"))\n",
    "for i in range(2,x):\n",
    "    if x%i==0:\n",
    "        print(\"no. is not prime\")\n",
    "        break\n",
    "else:\n",
    "    print(\"no. is prime\")\n",
    "        \n",
    "        \n"
   ]
  },
  {
   "cell_type": "code",
   "execution_count": 19,
   "metadata": {},
   "outputs": [
    {
     "name": "stdout",
     "output_type": "stream",
     "text": [
      "enter ending no.5\n",
      "the sum is: 8\n"
     ]
    }
   ],
   "source": [
    "#multiples of 3 or 5 considered in the sum\n",
    "x=int(input(\"enter ending no.\"))\n",
    "s=0\n",
    "for i in range(1,x+1):\n",
    "    if i%3==0 or i%5==0:\n",
    "        s=s+i\n",
    "print(\"the sum is:\",s)        "
   ]
  },
  {
   "cell_type": "code",
   "execution_count": 20,
   "metadata": {},
   "outputs": [
    {
     "name": "stdout",
     "output_type": "stream",
     "text": [
      "enter a no.5\n",
      "enter 1 for product and 2 for sum1\n",
      "the product is: 120\n"
     ]
    }
   ],
   "source": [
    "#product or sum\n",
    "try:\n",
    "    a=1\n",
    "    s=0\n",
    "    n=int(input(\"enter a no.\"))\n",
    "    y=int(input(\"enter 1 for product and 2 for sum\"))    \n",
    "    if y==1:\n",
    "        for i in range(1,n+1):       \n",
    "            a=a*i\n",
    "        print(\"the product is:\",a)\n",
    "    if y==2:\n",
    "        for i in range(1,n+1):\n",
    "            s=s+i\n",
    "        print(\"the sum is :\",s)\n",
    "except ValueError:\n",
    "    print(\"invalid input\")\n"
   ]
  },
  {
   "cell_type": "code",
   "execution_count": 21,
   "metadata": {},
   "outputs": [
    {
     "name": "stdout",
     "output_type": "stream",
     "text": [
      "the sum is: 234168\n"
     ]
    }
   ],
   "source": [
    "#sum of multiples of 3 or 5 below 1000\n",
    "s=0\n",
    "for i in range(1,1001):\n",
    "    if i%3==0 or i%5==0:\n",
    "        s=s+i\n",
    "\n",
    "print(\"the sum is:\",s)        \n"
   ]
  },
  {
   "cell_type": "code",
   "execution_count": 22,
   "metadata": {},
   "outputs": [
    {
     "name": "stdout",
     "output_type": "stream",
     "text": [
      "2002\n",
      "2009\n",
      "2016\n",
      "2023\n",
      "2037\n",
      "2044\n",
      "2051\n",
      "2058\n",
      "2072\n",
      "2079\n",
      "2086\n",
      "2093\n",
      "2107\n",
      "2114\n",
      "2121\n",
      "2128\n",
      "2142\n",
      "2149\n",
      "2156\n",
      "2163\n",
      "2177\n",
      "2184\n",
      "2191\n",
      "2198\n",
      "2212\n",
      "2219\n",
      "2226\n",
      "2233\n",
      "2247\n",
      "2254\n",
      "2261\n",
      "2268\n",
      "2282\n",
      "2289\n",
      "2296\n",
      "2303\n",
      "2317\n",
      "2324\n",
      "2331\n",
      "2338\n",
      "2352\n",
      "2359\n",
      "2366\n",
      "2373\n",
      "2387\n",
      "2394\n",
      "2401\n",
      "2408\n",
      "2422\n",
      "2429\n",
      "2436\n",
      "2443\n",
      "2457\n",
      "2464\n",
      "2471\n",
      "2478\n",
      "2492\n",
      "2499\n",
      "2506\n",
      "2513\n",
      "2527\n",
      "2534\n",
      "2541\n",
      "2548\n",
      "2562\n",
      "2569\n",
      "2576\n",
      "2583\n",
      "2597\n",
      "2604\n",
      "2611\n",
      "2618\n",
      "2632\n",
      "2639\n",
      "2646\n",
      "2653\n",
      "2667\n",
      "2674\n",
      "2681\n",
      "2688\n",
      "2702\n",
      "2709\n",
      "2716\n",
      "2723\n",
      "2737\n",
      "2744\n",
      "2751\n",
      "2758\n",
      "2772\n",
      "2779\n",
      "2786\n",
      "2793\n",
      "2807\n",
      "2814\n",
      "2821\n",
      "2828\n",
      "2842\n",
      "2849\n",
      "2856\n",
      "2863\n",
      "2877\n",
      "2884\n",
      "2891\n",
      "2898\n",
      "2912\n",
      "2919\n",
      "2926\n",
      "2933\n",
      "2947\n",
      "2954\n",
      "2961\n",
      "2968\n",
      "2982\n",
      "2989\n",
      "2996\n",
      "3003\n",
      "3017\n",
      "3024\n",
      "3031\n",
      "3038\n",
      "3052\n",
      "3059\n",
      "3066\n",
      "3073\n",
      "3087\n",
      "3094\n",
      "3101\n",
      "3108\n",
      "3122\n",
      "3129\n",
      "3136\n",
      "3143\n",
      "3157\n",
      "3164\n",
      "3171\n",
      "3178\n",
      "3192\n",
      "3199\n"
     ]
    }
   ],
   "source": [
    "#divisible by 7 not a multiple of 5\n",
    "for i in range(2000,3201):\n",
    "    if i%7==0 and i%5!=0:\n",
    "        print(i)    \n"
   ]
  },
  {
   "cell_type": "code",
   "execution_count": 26,
   "metadata": {},
   "outputs": [
    {
     "name": "stdout",
     "output_type": "stream",
     "text": [
      "the difference is: -25164150\n"
     ]
    }
   ],
   "source": [
    "#difference between sum of squares and square of sum\n",
    "s=0\n",
    "a=0\n",
    "for i in range(1,101):\n",
    "    s=s+(i**2)\n",
    "    a=a+i\n",
    "y=s-(a**2)\n",
    "print(\"the difference is:\",y)\n",
    "    \n"
   ]
  },
  {
   "cell_type": "code",
   "execution_count": null,
   "metadata": {},
   "outputs": [],
   "source": [
    "\n"
   ]
  },
  {
   "cell_type": "code",
   "execution_count": 28,
   "metadata": {},
   "outputs": [
    {
     "name": "stdout",
     "output_type": "stream",
     "text": [
      "last no.17\n",
      "2 3 5 7 11 13 17 "
     ]
    }
   ],
   "source": [
    "#prime numbers till n\n",
    "n=int(input(\"last no.\"))\n",
    "for i in range(2,n+1):\n",
    "    for a in range(2,i//2+1):\n",
    "        if i%a==0:\n",
    "            break\n",
    "    else:\n",
    "        print(i,end=\" \")\n",
    "        \n",
    "            \n"
   ]
  },
  {
   "cell_type": "code",
   "execution_count": 29,
   "metadata": {},
   "outputs": [
    {
     "name": "stdout",
     "output_type": "stream",
     "text": [
      "enter a no.5\n",
      "120\n"
     ]
    }
   ],
   "source": [
    "#factorial of a number\n",
    "def factorial(a):\n",
    "    if (a==0):\n",
    "        return 1\n",
    "    else:\n",
    "        return a*factorial(a-1)\n",
    "a=int(input(\"enter a no.\"))\n",
    "m=factorial(a)\n",
    "print(m)\n"
   ]
  },
  {
   "cell_type": "code",
   "execution_count": 31,
   "metadata": {},
   "outputs": [
    {
     "name": "stdout",
     "output_type": "stream",
     "text": [
      "enter a no.6\n",
      "1 1 2 3 5 8 "
     ]
    }
   ],
   "source": [
    "#fibonacci series\n",
    "p=0\n",
    "a=1\n",
    "n=int(input(\"enter a no.\"))\n",
    "for i in range(n):\n",
    "    print(a,end=\" \")\n",
    "    p,a=a,p+a\n",
    "            \n",
    "\n"
   ]
  },
  {
   "cell_type": "code",
   "execution_count": 32,
   "metadata": {},
   "outputs": [
    {
     "name": "stdout",
     "output_type": "stream",
     "text": [
      "enter 1st no.5\n",
      "enter 2nd no.7\n",
      "the lcm is  35\n"
     ]
    }
   ],
   "source": [
    "#lcm of a number\n",
    "n=int(input(\"enter 1st no.\"))\n",
    "v=int(input(\"enter 2nd no.\"))\n",
    "l=n*v\n",
    "for a in range(1,l+1):\n",
    "    if (a%n==0)and(a%v==0):\n",
    "        break\n",
    "print(\"the lcm is \",a)    \n",
    "    \n",
    "        \n",
    "        \n"
   ]
  },
  {
   "cell_type": "code",
   "execution_count": 33,
   "metadata": {},
   "outputs": [
    {
     "name": "stdout",
     "output_type": "stream",
     "text": [
      "enter a no.26\n",
      "the factors are: 1 2 13 26 "
     ]
    }
   ],
   "source": [
    "#factors of a number\n",
    "n=int(input(\"enter a no.\"))\n",
    "print(\"the factors are:\",end=\" \")\n",
    "for i in range(1,n+1):\n",
    "    if n%i==0:\n",
    "        print(i,end=\" \")\n",
    "        \n"
   ]
  },
  {
   "cell_type": "code",
   "execution_count": 34,
   "metadata": {},
   "outputs": [
    {
     "name": "stdout",
     "output_type": "stream",
     "text": [
      "*******\n",
      "****** \n",
      "*****  \n",
      "****   \n",
      "***    \n",
      "**     \n",
      "*      \n"
     ]
    }
   ],
   "source": [
    "#pattern 1\n",
    "for i in range(7):\n",
    "    print(\"*\"*(7-i)+\" \"*i)\n"
   ]
  },
  {
   "cell_type": "code",
   "execution_count": 35,
   "metadata": {},
   "outputs": [
    {
     "name": "stdout",
     "output_type": "stream",
     "text": [
      "*\n",
      "**\n",
      "***\n",
      "****\n",
      "*****\n"
     ]
    }
   ],
   "source": [
    "#pattern 2\n",
    "for i in range(5):\n",
    "    print(\"*\"*(i+1))\n"
   ]
  },
  {
   "cell_type": "code",
   "execution_count": 36,
   "metadata": {},
   "outputs": [
    {
     "name": "stdout",
     "output_type": "stream",
     "text": [
      "    *\n",
      "   **\n",
      "  ***\n",
      " ****\n",
      "*****\n"
     ]
    }
   ],
   "source": [
    "#pattern 3\n",
    "for i in range(5):\n",
    "    print(\" \"*(5-(i+1))+\"*\"*(i+1))\n"
   ]
  },
  {
   "cell_type": "code",
   "execution_count": 37,
   "metadata": {},
   "outputs": [
    {
     "name": "stdout",
     "output_type": "stream",
     "text": [
      "1 \n",
      "2 2 \n",
      "3 3 3 \n",
      "4 4 4 4 \n",
      "5 5 5 5 5 \n"
     ]
    }
   ],
   "source": [
    "#pattern 4\n",
    "for i in range(5):\n",
    "    for j in range(i+1):\n",
    "        print(i+1,end=\" \")\n",
    "    print()    \n"
   ]
  },
  {
   "cell_type": "code",
   "execution_count": 38,
   "metadata": {},
   "outputs": [
    {
     "name": "stdout",
     "output_type": "stream",
     "text": [
      "1 \n",
      "2 3 \n",
      "4 5 6 \n",
      "7 8 9 10 \n"
     ]
    }
   ],
   "source": [
    "#pattern 5\n",
    "m=1\n",
    "for i in range(4):\n",
    "    for j in range(i+1):\n",
    "        print(m,end=\" \")\n",
    "        m=m+1\n",
    "    print()    \n"
   ]
  },
  {
   "cell_type": "code",
   "execution_count": 46,
   "metadata": {},
   "outputs": [
    {
     "name": "stdout",
     "output_type": "stream",
     "text": [
      "     *\n",
      "    * *\n",
      "   * * *\n",
      "  * * * *\n",
      " * * * * *\n"
     ]
    }
   ],
   "source": [
    "#pattern 6\n",
    "for i in range(5):\n",
    "    print(\" \"*(5-(i+1))+\" *\"*(i+1))"
   ]
  },
  {
   "cell_type": "code",
   "execution_count": null,
   "metadata": {},
   "outputs": [],
   "source": [
    "\n"
   ]
  },
  {
   "cell_type": "code",
   "execution_count": null,
   "metadata": {},
   "outputs": [],
   "source": []
  }
 ],
 "metadata": {
  "kernelspec": {
   "display_name": "Python 3",
   "language": "python",
   "name": "python3"
  },
  "language_info": {
   "codemirror_mode": {
    "name": "ipython",
    "version": 3
   },
   "file_extension": ".py",
   "mimetype": "text/x-python",
   "name": "python",
   "nbconvert_exporter": "python",
   "pygments_lexer": "ipython3",
   "version": "3.7.3"
  }
 },
 "nbformat": 4,
 "nbformat_minor": 2
}
